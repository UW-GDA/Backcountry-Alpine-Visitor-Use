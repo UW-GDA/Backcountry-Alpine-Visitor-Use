{
 "cells": [
  {
   "cell_type": "code",
   "execution_count": null,
   "metadata": {},
   "outputs": [],
   "source": [
    "import os\n",
    "import imageio\n",
    "\n",
    "jpg_dir = '/home/jovyan/project/Backcountry-Alpine-Visitor-Use/robin-lakes-social-trail'\n",
    "images = []\n",
    "for file_name in sorted(os.listdir(jpg_dir)):\n",
    "    if file_name.endswith('.jpg'):\n",
    "        file_path = os.path.join(jpg_dir, file_name)\n",
    "        images.append(imageio.imread(file_path))\n",
    "imageio.mimsave('/home/jovyan/project/Backcountry-Alpine-Visitor-Use/robin-lakes.gif', images, duration = 1.0)"
   ]
  },
  {
   "cell_type": "markdown",
   "metadata": {},
   "source": [
    "# Feasibility of using Satellite Imagery and Lidar for Social Trail Assessments\n",
    "1. Look at Google Earth imagery to see if social trail are detectable\n",
    "    1. Robin Lakes"
   ]
  },
  {
   "cell_type": "code",
   "execution_count": null,
   "metadata": {},
   "outputs": [],
   "source": [
    "from IPython.display import Image\n",
    "Image(filename=\"./robin-lakes-social-trail/robin-lakes.gif\")"
   ]
  },
  {
   "cell_type": "markdown",
   "metadata": {},
   "source": [
    "# Trails are visible from space\n",
    "\n",
    "1. Does LIDAR show anything?"
   ]
  },
  {
   "cell_type": "code",
   "execution_count": null,
   "metadata": {},
   "outputs": [],
   "source": [
    "https://www.earthdatascience.org/courses/use-data-open-source-python/multispectral-remote-sensing/intro-naip/"
   ]
  }
 ],
 "metadata": {
  "kernelspec": {
   "display_name": "Python 3",
   "language": "python",
   "name": "python3"
  },
  "language_info": {
   "codemirror_mode": {
    "name": "ipython",
    "version": 3
   },
   "file_extension": ".py",
   "mimetype": "text/x-python",
   "name": "python",
   "nbconvert_exporter": "python",
   "pygments_lexer": "ipython3",
   "version": "3.8.6"
  }
 },
 "nbformat": 4,
 "nbformat_minor": 4
}
